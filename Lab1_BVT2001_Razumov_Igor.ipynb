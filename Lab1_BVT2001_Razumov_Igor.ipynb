{
 "cells": [
  {
   "cell_type": "markdown",
   "metadata": {},
   "source": [
    "# Лабораторная работа №1\n",
    "## Выполнил студент группы БВТ2001 Разумов Игорь Вячеславович\n",
    "### Задание 1"
   ]
  },
  {
   "cell_type": "code",
   "execution_count": 16,
   "metadata": {},
   "outputs": [
    {
     "name": "stdout",
     "output_type": "stream",
     "text": [
      "Hello, world!\n"
     ]
    }
   ],
   "source": [
    "print(\"Hello, world!\")"
   ]
  },
  {
   "cell_type": "markdown",
   "metadata": {},
   "source": [
    "### Задание 2"
   ]
  },
  {
   "cell_type": "code",
   "execution_count": 29,
   "metadata": {},
   "outputs": [
    {
     "name": "stdout",
     "output_type": "stream",
     "text": [
      "Введите числа:4 10 1 34\n",
      "Numpy матрица\n",
      "[[ 7. 21. 28.  9. 28. 13.  8.  9. 10. 20.]\n",
      " [ 8.  8. 18. 32. 22.  2.  3. 34. 32.  6.]\n",
      " [20. 20. 33. 19. 15. 34.  5. 33.  7.  4.]\n",
      " [22. 20. 11. 26. 13.  8. 26. 32.  2. 21.]]\n"
     ]
    }
   ],
   "source": [
    "from random import randint\n",
    "import numpy as np\n",
    "m, n , min_limit, max_limit = map(int, input(\"Введите числа:\").split()) \n",
    "a = []\n",
    "for i in range(m*n):\n",
    "    a.append(randint(min_limit,max_limit))\n",
    "counter = 0\n",
    "\n",
    "\n",
    "counter = 0\n",
    "a_np = np.zeros((m,n))\n",
    "for i in range (m):\n",
    "    for j in range (n):\n",
    "        a_np[i][j] = a[counter]\n",
    "        counter += 1\n",
    "print (\"Numpy матрица\")\n",
    "print(a_np)"
   ]
  },
  {
   "cell_type": "markdown",
   "metadata": {},
   "source": [
    "### Задание 3"
   ]
  },
  {
   "cell_type": "markdown",
   "metadata": {},
   "source": [
    "#### Встроенная сортировка"
   ]
  },
  {
   "cell_type": "code",
   "execution_count": 30,
   "metadata": {},
   "outputs": [
    {
     "data": {
      "text/plain": [
       "array([[ 2.,  2.,  3.,  4.,  5.,  6.,  7.,  7.,  8.,  8.],\n",
       "       [ 8.,  8.,  9.,  9., 10., 11., 13., 13., 15., 18.],\n",
       "       [19., 20., 20., 20., 20., 21., 21., 22., 22., 26.],\n",
       "       [26., 28., 28., 32., 32., 32., 33., 33., 34., 34.]])"
      ]
     },
     "execution_count": 30,
     "metadata": {},
     "output_type": "execute_result"
    }
   ],
   "source": [
    "a_np_sorted = np.sort(a)\n",
    "counter = 0\n",
    "a_np_s_b = np.zeros((m,n))\n",
    "\n",
    "for i in range (m):\n",
    "    for j in range (n):\n",
    "        a_np_s_b[i][j] = a_np_sorted[counter]\n",
    "        counter += 1\n",
    "\n",
    "a_np_s_b"
   ]
  },
  {
   "cell_type": "markdown",
   "metadata": {},
   "source": [
    "#### Выбором"
   ]
  },
  {
   "cell_type": "code",
   "execution_count": 32,
   "metadata": {},
   "outputs": [
    {
     "name": "stdout",
     "output_type": "stream",
     "text": [
      "[2, 2, 3, 4, 5, 6, 7, 7, 8, 8, 8, 8, 9, 9, 10, 11, 13, 13, 15, 18, 19, 20, 20, 20, 20, 21, 21, 22, 22, 26, 26, 28, 28, 32, 32, 32, 33, 33, 34, 34]\n"
     ]
    },
    {
     "data": {
      "text/plain": [
       "array([[ 2.,  2.,  3.,  4.,  5.,  6.,  7.,  7.,  8.,  8.],\n",
       "       [ 8.,  8.,  9.,  9., 10., 11., 13., 13., 15., 18.],\n",
       "       [19., 20., 20., 20., 20., 21., 21., 22., 22., 26.],\n",
       "       [26., 28., 28., 32., 32., 32., 33., 33., 34., 34.]])"
      ]
     },
     "execution_count": 32,
     "metadata": {},
     "output_type": "execute_result"
    }
   ],
   "source": [
    "# создаём функцию-сортировщик\n",
    "def select (a = list):\n",
    "    index = 0\n",
    "    tech = 0\n",
    "    for i in range (len(a)):\n",
    "        index = i\n",
    "        for j in range (i+1,len(a)):\n",
    "            if a[j]<a[index] :\n",
    "                index = j\n",
    "        tech = a[index]\n",
    "        a[index] = a[i]\n",
    "        a[i] = tech\n",
    "    \n",
    "    return a\n",
    "\n",
    "\n",
    "a_sort_select = select(a) # отсортированный массив\n",
    "\n",
    "a_matrix_select = np.zeros((m,n)) # матрица\n",
    "\n",
    "print(a_sort_select)\n",
    "\n",
    "counter = 0\n",
    "for i in range (m):\n",
    "    for j in range (n):\n",
    "        a_matrix_select[i][j] = a_sort_select[counter]\n",
    "        counter += 1\n",
    "a_matrix_select # вывод матрицы"
   ]
  },
  {
   "cell_type": "markdown",
   "metadata": {},
   "source": [
    "#### Вставкой"
   ]
  },
  {
   "cell_type": "code",
   "execution_count": null,
   "metadata": {},
   "outputs": [],
   "source": []
  },
  {
   "cell_type": "markdown",
   "metadata": {},
   "source": [
    "#### Обменом"
   ]
  },
  {
   "cell_type": "code",
   "execution_count": null,
   "metadata": {},
   "outputs": [],
   "source": []
  },
  {
   "cell_type": "markdown",
   "metadata": {},
   "source": [
    "#### Шелла"
   ]
  },
  {
   "cell_type": "code",
   "execution_count": null,
   "metadata": {},
   "outputs": [],
   "source": [
    "def shell(data):\n",
    "    inc = len(data) // 2\n",
    "    while inc:\n",
    "        for i, el in enumerate(data):\n",
    "            while i >= inc and data[i - inc] > el:\n",
    "                data[i] = data[i - inc]\n",
    "                i -= inc\n",
    "            data[i] = el\n",
    "        inc = 1 if inc == 2 else int(inc * 5.0 / 11)\n",
    "    return data\n"
   ]
  },
  {
   "cell_type": "markdown",
   "metadata": {},
   "source": [
    "#### Турнирная"
   ]
  },
  {
   "cell_type": "code",
   "execution_count": null,
   "metadata": {},
   "outputs": [],
   "source": []
  },
  {
   "cell_type": "markdown",
   "metadata": {},
   "source": [
    "#### Быстрая сортировка"
   ]
  },
  {
   "cell_type": "code",
   "execution_count": null,
   "metadata": {},
   "outputs": [],
   "source": []
  },
  {
   "cell_type": "markdown",
   "metadata": {},
   "source": [
    "#### Пирамидальная"
   ]
  },
  {
   "cell_type": "code",
   "execution_count": null,
   "metadata": {},
   "outputs": [],
   "source": []
  }
 ],
 "metadata": {
  "kernelspec": {
   "display_name": "Python 3",
   "language": "python",
   "name": "python3"
  },
  "language_info": {
   "codemirror_mode": {
    "name": "ipython",
    "version": 3
   },
   "file_extension": ".py",
   "mimetype": "text/x-python",
   "name": "python",
   "nbconvert_exporter": "python",
   "pygments_lexer": "ipython3",
   "version": "3.8.3"
  }
 },
 "nbformat": 4,
 "nbformat_minor": 4
}

{
 "cells": [
  {
   "cell_type": "markdown",
   "metadata": {},
   "source": [
    "# Лабораторная работа №4\n",
    "## Выполнил студент группы ФИО ГРУППА"
   ]
  },
  {
   "cell_type": "markdown",
   "metadata": {},
   "source": [
    "Реализовать следующие структуры данных:\n",
    "  \n",
    "● <b> Стек (stack): </b>  \n",
    "Операции для стека: \n",
    "<i> инициализация, проверка на пустоту, добавление нового элемента в начало, извлечение элемента из начала;  </i>  \n",
    "  \n",
    "● <b> Дек (двусторонняя очередь, deque):  </b>  \n",
    "Операции для дека: \n",
    "<i> инициализация, проверка на пустоту, добавление нового элемента в начало, добавление нового элемента в конец, извлечение элемента из начала, извлечение элемента из конца. </i>  \n",
    "  \n",
    "<i> Разработать программу обработки данных, содержащихся в заранее подготовленном txt-файле, в соответствии с заданиями, применив указанную в задании структуру данных. Результат работы программы вывести на экран и сохранить в отдельном txt-файле. </i>"
   ]
  },
  {
   "cell_type": "markdown",
   "metadata": {},
   "source": [
    "### Реализация стека"
   ]
  },
  {
   "cell_type": "code",
   "execution_count": 39,
   "metadata": {},
   "outputs": [],
   "source": [
    "class stack():\n",
    "    sta = []\n",
    "    def __init__(self, sta):\n",
    "        self.sta = sta\n",
    "    def append(self,i):\n",
    "        self.sta.append(i)\n",
    "    def pop(self,i=None):\n",
    "        if i != None:\n",
    "            return self.sta.pop(i)\n",
    "        else:\n",
    "            return self.sta.pop()\n",
    "    def isEmpty(self):\n",
    "        return len(self.sta) == 0\n",
    "\n",
    "    def getList(self):\n",
    "        return self.sta\n",
    "    \n",
    "    def clear(self):\n",
    "        self.sta = []\n",
    "\n",
    "        \n"
   ]
  },
  {
   "cell_type": "markdown",
   "metadata": {},
   "source": [
    "### Реализация дека"
   ]
  },
  {
   "cell_type": "code",
   "execution_count": 1,
   "metadata": {},
   "outputs": [],
   "source": [
    "class deque():\n",
    "    deq = []\n",
    "    def __init__(self, deq):\n",
    "        self.deq = deq\n",
    "    def appendLeft (self, i):\n",
    "        self.deq.insert(0, i)\n",
    "        \n",
    "    def appendRight (self, i):\n",
    "        self.deq.append(i)\n",
    "    def isEmpty(self):\n",
    "        return len(self.deq) == 0\n",
    "\n",
    "    def popRight(self, i=None):\n",
    "        if i != None:\n",
    "            return self.deq.pop(i)\n",
    "        else:\n",
    "            return self.deq.pop()\n",
    "    def popLeft(self):\n",
    "        return self.deq.pop(0)\n",
    "\n",
    "    def getList(self):\n",
    "        return self.deq\n",
    "\n",
    "    def clear(self):\n",
    "        self.deq = []"
   ]
  },
  {
   "cell_type": "code",
   "execution_count": 13,
   "id": "f3fc84df",
   "metadata": {},
   "outputs": [],
   "source": [
    "class Deque():\n",
    "    def __init__(self, items):\n",
    "        self.Deque = items\n",
    "    def isEmpty(self):\n",
    "        return self.Deque == []\n",
    "    def frontAdd(self, item):\n",
    "        self.Deque.append(item)\n",
    "    def rearAdd(self, item):\n",
    "        self.Deque.insert(0, item)\n",
    "    def frontPop(self):\n",
    "        return self.Deque.pop()\n",
    "    def rearPop(self):\n",
    "        return self.Deque.pop(0)\n",
    "    def size(self):\n",
    "        return len(self.Deque)\n",
    "    def printItems(self):\n",
    "        for i in self.Deque:\n",
    "            print(i)\n",
    "    def doesExist(self, item):\n",
    "        return item in self.Deque"
   ]
  },
  {
   "cell_type": "markdown",
   "metadata": {
    "scrolled": true
   },
   "source": [
    "### Задание №1\n",
    "Отсортировать строки файла, содержащие названия книг, в алфавитном порядке с использованием двух деков."
   ]
  },
  {
   "cell_type": "code",
   "execution_count": 48,
   "metadata": {},
   "outputs": [
    {
     "name": "stdout",
     "output_type": "stream",
     "text": [
      " Первая строка: g sd sda zsfdsjhfasdfbh \n",
      " Следующая строка: Ben Fg Zguysadfuy sadfguyfsuygfsad yug \n",
      " Следующая строка: dqwdqw rhr sdhsadf dqwgyudwqygudqwgyudyu \n",
      " Следующая строка: dqwqwdqwd qwdqdwqdqw \n",
      " Следующая строка: "
     ]
    }
   ],
   "source": [
    "deque_z1_1 = deque([])\n",
    "deque_z1_2 = deque([])\n",
    "deque_z1_3 = deque([])\n",
    "\n",
    "with open (\"txt/zad1.txt\") as z1:\n",
    "    for line in z1:\n",
    "        if deque_z1_1.isEmpty() == True:\n",
    "            deque_z1_1.clear()\n",
    "            \n",
    "        line = line.rstrip()\n",
    "        line = line.split(\",\")\n",
    "        for i in line:\n",
    "            \n",
    "            count_z1_left = 0\n",
    "            count_z1_right = len(deque_z1_1.getList())\n",
    "            if deque_z1_1.isEmpty() == False:\n",
    "                \n",
    "                \n",
    "                last = deque_z1_1.popRight()\n",
    "                finish = 0\n",
    "                if i < last:\n",
    "                    while (finish == 0):\n",
    "                        deque_z1_3.appendRight(last)\n",
    "                        count_z1_left += 1\n",
    "                        count_z1_right -= 1\n",
    "                        if len(deque_z1_1.getList())>0:\n",
    "                            last = deque_z1_1.popRight()\n",
    "                            if i>last:\n",
    "                                finish = 1\n",
    "                        else:\n",
    "                            finish = 1 \n",
    "                else:\n",
    "                    deque_z1_1.appendRight(last)\n",
    "                   \n",
    "                deque_z1_1.appendRight(i)\n",
    "                if deque_z1_3.isEmpty() == False:\n",
    "                     for j in range(count_z1_left):\n",
    "                         deque_z1_1.appendRight(deque_z1_3.popLeft())\n",
    "\n",
    "            else:\n",
    "                deque_z1_1.appendRight(i)\n",
    "                \n",
    "\n",
    "        for i in range (len(deque_z1_1.getList())):\n",
    "            deque_z1_2.appendRight(deque_z1_1.popLeft())\n",
    "        deque_z1_2.appendRight(\"\\n\")\n",
    "        deque_z1_2.appendRight(\"Следующая строка:\")\n",
    "    \n",
    "print(\" Первая строка:\", end = \" \")\n",
    "for i in range (len(deque_z1_2.getList())):\n",
    "        print(deque_z1_2.popLeft(), end=' ')    \n"
   ]
  },
  {
   "cell_type": "markdown",
   "metadata": {},
   "source": [
    "### Задание №2\n",
    "Дек содержит последовательность символов для шифровки сообщений. Дан текстовый файл, содержащий зашифрованное сообщение. Пользуясь деком, расшифровать текст. \n",
    "Известно, что при шифровке каждый символ сообщения заменялся следующим за ним в деке по часовой стрелке через один."
   ]
  },
  {
   "cell_type": "code",
   "execution_count": 15,
   "metadata": {},
   "outputs": [
    {
     "ename": "IndexError",
     "evalue": "pop from empty list",
     "output_type": "error",
     "traceback": [
      "\u001b[1;31m---------------------------------------------------------------------------\u001b[0m",
      "\u001b[1;31mIndexError\u001b[0m                                Traceback (most recent call last)",
      "\u001b[1;32m<ipython-input-15-9774e39cb4ac>\u001b[0m in \u001b[0;36m<module>\u001b[1;34m\u001b[0m\n\u001b[0;32m     10\u001b[0m         \u001b[1;32mwhile\u001b[0m \u001b[0mi\u001b[0m \u001b[1;33m!=\u001b[0m \u001b[0mbuffer_el\u001b[0m\u001b[1;33m:\u001b[0m\u001b[1;33m\u001b[0m\u001b[1;33m\u001b[0m\u001b[0m\n\u001b[0;32m     11\u001b[0m             \u001b[0mbuff_str\u001b[0m \u001b[1;33m+=\u001b[0m \u001b[0mbuffer_el\u001b[0m\u001b[1;33m\u001b[0m\u001b[1;33m\u001b[0m\u001b[0m\n\u001b[1;32m---> 12\u001b[1;33m             \u001b[0mbuffer_el\u001b[0m \u001b[1;33m=\u001b[0m \u001b[0md\u001b[0m\u001b[1;33m.\u001b[0m\u001b[0mrearPop\u001b[0m\u001b[1;33m(\u001b[0m\u001b[1;33m)\u001b[0m\u001b[1;33m\u001b[0m\u001b[1;33m\u001b[0m\u001b[0m\n\u001b[0m\u001b[0;32m     13\u001b[0m         \u001b[1;31m# Проверка на то, произошло ли совпадение с первым элементом дека\u001b[0m\u001b[1;33m\u001b[0m\u001b[1;33m\u001b[0m\u001b[1;33m\u001b[0m\u001b[0m\n\u001b[0;32m     14\u001b[0m         \u001b[1;32mif\u001b[0m \u001b[0mlen\u001b[0m\u001b[1;33m(\u001b[0m\u001b[0mbuff_str\u001b[0m\u001b[1;33m)\u001b[0m \u001b[1;33m==\u001b[0m \u001b[1;36m0\u001b[0m\u001b[1;33m:\u001b[0m\u001b[1;33m\u001b[0m\u001b[1;33m\u001b[0m\u001b[0m\n",
      "\u001b[1;32m<ipython-input-13-2f6650e6f3be>\u001b[0m in \u001b[0;36mrearPop\u001b[1;34m(self)\u001b[0m\n\u001b[0;32m     11\u001b[0m         \u001b[1;32mreturn\u001b[0m \u001b[0mself\u001b[0m\u001b[1;33m.\u001b[0m\u001b[0mDeque\u001b[0m\u001b[1;33m.\u001b[0m\u001b[0mpop\u001b[0m\u001b[1;33m(\u001b[0m\u001b[1;33m)\u001b[0m\u001b[1;33m\u001b[0m\u001b[1;33m\u001b[0m\u001b[0m\n\u001b[0;32m     12\u001b[0m     \u001b[1;32mdef\u001b[0m \u001b[0mrearPop\u001b[0m\u001b[1;33m(\u001b[0m\u001b[0mself\u001b[0m\u001b[1;33m)\u001b[0m\u001b[1;33m:\u001b[0m\u001b[1;33m\u001b[0m\u001b[1;33m\u001b[0m\u001b[0m\n\u001b[1;32m---> 13\u001b[1;33m         \u001b[1;32mreturn\u001b[0m \u001b[0mself\u001b[0m\u001b[1;33m.\u001b[0m\u001b[0mDeque\u001b[0m\u001b[1;33m.\u001b[0m\u001b[0mpop\u001b[0m\u001b[1;33m(\u001b[0m\u001b[1;36m0\u001b[0m\u001b[1;33m)\u001b[0m\u001b[1;33m\u001b[0m\u001b[1;33m\u001b[0m\u001b[0m\n\u001b[0m\u001b[0;32m     14\u001b[0m     \u001b[1;32mdef\u001b[0m \u001b[0msize\u001b[0m\u001b[1;33m(\u001b[0m\u001b[0mself\u001b[0m\u001b[1;33m)\u001b[0m\u001b[1;33m:\u001b[0m\u001b[1;33m\u001b[0m\u001b[1;33m\u001b[0m\u001b[0m\n\u001b[0;32m     15\u001b[0m         \u001b[1;32mreturn\u001b[0m \u001b[0mlen\u001b[0m\u001b[1;33m(\u001b[0m\u001b[0mself\u001b[0m\u001b[1;33m.\u001b[0m\u001b[0mDeque\u001b[0m\u001b[1;33m)\u001b[0m\u001b[1;33m\u001b[0m\u001b[1;33m\u001b[0m\u001b[0m\n",
      "\u001b[1;31mIndexError\u001b[0m: pop from empty list"
     ]
    }
   ],
   "source": [
    "d = Deque(['r', 'w', 'n', 'x', 'z', 'o', 'b'])\n",
    "\n",
    "with open('txt/zad2.txt','r') as f:\n",
    "    line = f.readline()\n",
    "    res = \"\"\n",
    "    for i in line:\n",
    "        buff_str = \"\"\n",
    "        buffer_el = d.rearPop()\n",
    "        # Проверяем, пока символ зашифрованной строки не будет равен символу из дека\n",
    "        while i != buffer_el:\n",
    "            buff_str += buffer_el\n",
    "            buffer_el = d.rearPop()\n",
    "        # Проверка на то, произошло ли совпадение с первым элементом дека\n",
    "        if len(buff_str) == 0:\n",
    "            d.rearAdd(buffer_el)\n",
    "            buffer_el2 = d.frontPop()\n",
    "            buffer_el = d.frontPop()\n",
    "            res += buffer_el\n",
    "            d.frontAdd(buffer_el)\n",
    "            d.frontAdd(buffer_el2)\n",
    "        # Проверка на то, произошло ли совпадение со вторым элементом дека\n",
    "        elif len(buff_str) == 1:\n",
    "            d.rearAdd(buffer_el)\n",
    "            d.rearAdd(buff_str[0])\n",
    "            buffer_el = d.frontPop()\n",
    "            res += buffer_el\n",
    "            d.frontAdd(buffer_el)\n",
    "        else:\n",
    "            d.rearAdd(buffer_el)\n",
    "            buff_el = buff_str[len(buff_str)-2]\n",
    "            res += buff_el\n",
    "            for j in reversed(buff_str):\n",
    "                d.rearAdd(j)\n",
    "print(res)\n",
    "\n",
    "with open(\"out2.txt\", \"w\") as f:\n",
    "    f.write(res)"
   ]
  },
  {
   "cell_type": "markdown",
   "metadata": {},
   "source": [
    "### Задание №3\n",
    "Даны три стержня и n дисков различного размера. Диски можно надевать на стержни, образуя из них башни. Перенести n дисков со стержня А на стержень С, сохранив их первоначальный порядок. При переносе дисков необходимо соблюдать следующие правила:\n",
    "- на каждом шаге со стержня на стержень переносить только один диск;\n",
    "- диск нельзя помещать на диск меньшего размера;\n",
    "- для промежуточного хранения можно использовать стержень В.\n",
    "Реализовать алгоритм, используя три стека вместо стержней А, В, С. Информация о дисках хранится в исходном файле."
   ]
  },
  {
   "cell_type": "code",
   "execution_count": 4,
   "metadata": {},
   "outputs": [
    {
     "name": "stdout",
     "output_type": "stream",
     "text": [
      "Перещаем 1 из 1 в 3\n",
      "Перещаем 2 из 1 в 2\n",
      "Перещаем 1 из 3 в 2\n",
      "Перещаем 3 из 1 в 3\n",
      "Перещаем 1 из 2 в 1\n",
      "Перещаем 2 из 2 в 3\n",
      "Перещаем 1 из 1 в 3\n",
      "Перещаем 4 из 1 в 2\n",
      "Перещаем 1 из 3 в 2\n",
      "Перещаем 2 из 3 в 1\n",
      "Перещаем 1 из 2 в 1\n",
      "Перещаем 3 из 3 в 2\n",
      "Перещаем 1 из 1 в 3\n",
      "Перещаем 2 из 1 в 2\n",
      "Перещаем 1 из 3 в 2\n",
      "Перещаем 5 из 1 в 3\n",
      "Перещаем 1 из 2 в 1\n",
      "Перещаем 2 из 2 в 3\n",
      "Перещаем 1 из 1 в 3\n",
      "Перещаем 3 из 2 в 1\n",
      "Перещаем 1 из 3 в 2\n",
      "Перещаем 2 из 3 в 1\n",
      "Перещаем 1 из 2 в 1\n",
      "Перещаем 4 из 2 в 3\n",
      "Перещаем 1 из 1 в 3\n",
      "Перещаем 2 из 1 в 2\n",
      "Перещаем 1 из 3 в 2\n",
      "Перещаем 3 из 1 в 3\n",
      "Перещаем 1 из 2 в 1\n",
      "Перещаем 2 из 2 в 3\n",
      "Перещаем 1 из 1 в 3\n"
     ]
    }
   ],
   "source": [
    "rods = {1 : stack([]), 2 : stack([]), 3 : stack([])}\n",
    "# def func(data):\n",
    "#     rods[1] = Stack(data)\n",
    "#     solve(len(rods[1].items), 1, 3)\n",
    "def hanoi(l, source, dest):\n",
    "    if l == 1:\n",
    "        print(f\"Перещаем {l} из {source} в {dest}\")\n",
    "        rods[dest].append(rods[source].pop())\n",
    "    else:\n",
    "        hanoi(l - 1, source, 6 - source - dest)\n",
    "        print(f\"Перещаем {l} из {source} в {dest}\")\n",
    "        rods[dest].append(rods[source].pop())\n",
    "        hanoi(l - 1, 6 - source - dest, dest)\n",
    "\n",
    "\n",
    "rods[1] = stack([1,2,3,4,5])\n",
    "hanoi(len(rods[1].sta), 1, 3)\n",
    "    "
   ]
  },
  {
   "cell_type": "markdown",
   "metadata": {},
   "source": [
    "### Задание №4\n",
    "Дан текстовый файл с программой на алгоритмическом языке. За один просмотр файла проверить баланс круглых скобок в тексте, используя стек."
   ]
  },
  {
   "cell_type": "code",
   "execution_count": 5,
   "metadata": {},
   "outputs": [
    {
     "name": "stdout",
     "output_type": "stream",
     "text": [
      "Баланс скобок не нарушен\n"
     ]
    }
   ],
   "source": [
    "stack_z4 = stack([])\n",
    "flag = False\n",
    "with open (\"txt/zad4.txt\") as z4:\n",
    "    for line in z4:\n",
    "        line = line.rstrip()\n",
    "        for i in line:\n",
    "            if i == \"(\":\n",
    "                stack_z4.append(i)\n",
    "            elif i == \")\":\n",
    "                try:\n",
    "                    stack_z4.pop()  \n",
    "                except BaseException:\n",
    "                    print(\"Баланс скобок нарушен\")\n",
    "                    flag = True\n",
    "                    break\n",
    "    \n",
    "if stack_z4.isEmpty() == False:\n",
    "    print(\"Баланс скобок нарушен\")\n",
    "elif flag == False and stack_z4.isEmpty() == True:\n",
    "    print(\"Баланс скобок не нарушен\")"
   ]
  },
  {
   "cell_type": "markdown",
   "metadata": {},
   "source": [
    "### Задание №5\n",
    "Дан текстовый файл с программой на алгоритмическом языке. За один просмотр файла проверить баланс квадратных скобок в тексте, используя дек."
   ]
  },
  {
   "cell_type": "code",
   "execution_count": 6,
   "metadata": {},
   "outputs": [
    {
     "name": "stdout",
     "output_type": "stream",
     "text": [
      "Баланс скобок нарушен\n"
     ]
    }
   ],
   "source": [
    "deque_z5 = deque([])\n",
    "flag = False\n",
    "with open (\"txt/zad5.txt\") as z5:\n",
    "    for line in z5:\n",
    "        line = line.rstrip()\n",
    "        for i in line:\n",
    "            if i == \"[\":\n",
    "                deque_z5.appendRight(i)\n",
    "            elif i == \"]\":\n",
    "                try:\n",
    "                    deque_z5.popRight()  \n",
    "                except BaseException:\n",
    "                    print(\"Баланс скобок нарушен\")\n",
    "                    flag = True\n",
    "                    break\n",
    "    \n",
    "if deque_z5.isEmpty() == False:\n",
    "    print(\"Баланс скобок нарушен\")\n",
    "elif flag == False and deque_z5.isEmpty() == True:\n",
    "    print(\"Баланс скобок не нарушен\")\n",
    "    "
   ]
  },
  {
   "cell_type": "markdown",
   "metadata": {},
   "source": [
    "### Задание №6\n",
    "Дан файл из символов. Используя стек, за один просмотр файла напечатать сначала все цифры, затем все буквы, и, наконец, все остальные символы, сохраняя исходный порядок в каждой группе символов."
   ]
  },
  {
   "cell_type": "code",
   "execution_count": 7,
   "metadata": {},
   "outputs": [
    {
     "name": "stdout",
     "output_type": "stream",
     "text": [
      "Числа: 2 3 1 2 3 1 2 3 1 2 3 6 6 4 3 2 2 3 1 4 4 1 3 2 4  \n",
      "Буквы: s f s d a f d f a d s f s d a f a s d f a s d f d f d g f d s g s e f s d a f x z z x a s  \n",
      "Другие символы: + _ _ ) = - = - - = - = = - + _ _ + _ + _ +  \n"
     ]
    }
   ],
   "source": [
    "def print_mass(str1, stack):\n",
    "    print(str1, end=\"\")\n",
    "    mass = []\n",
    "    for i in range(len(stack)):\n",
    "        mass.append(stack.pop())\n",
    "    mass = mass[::-1]    \n",
    "    for i in mass:\n",
    "        print(i,end=\" \")\n",
    "    print(\" \")\n",
    "\n",
    "stack_num = stack([])\n",
    "stack_let = stack([])\n",
    "stack_other = stack([])\n",
    "\n",
    "with open (\"txt/zad6.txt\") as z6:\n",
    "    for line in z6:\n",
    "        line = line.rstrip()\n",
    "        for i in line:\n",
    "            if i.isdigit() == True:\n",
    "                stack_num.append(i)\n",
    "            elif i.isalpha() == True:\n",
    "                stack_let.append(i)\n",
    "            elif i != \" \":\n",
    "                stack_other.append(i)\n",
    "\n",
    "print_mass(\"Числа: \", stack_num.getList())\n",
    "print_mass(\"Буквы: \", stack_let.getList())\n",
    "print_mass(\"Другие символы: \" ,stack_other.getList())\n",
    "\n",
    "    \n",
    "\n"
   ]
  },
  {
   "cell_type": "markdown",
   "metadata": {},
   "source": [
    "### Задание №7\n",
    "Дан файл из целых чисел. Используя дек, за один просмотр файла напечатать сначала все отрицательные числа, затем все положительные числа, сохраняя исходный порядок в каждой группе."
   ]
  },
  {
   "cell_type": "code",
   "execution_count": 8,
   "metadata": {},
   "outputs": [
    {
     "name": "stdout",
     "output_type": "stream",
     "text": [
      "-21 -5467567 \n",
      "123123 213123120 213123 123132 8 987897 "
     ]
    }
   ],
   "source": [
    "deque_z7 = deque([])\n",
    "flag = False\n",
    "count_left = 0\n",
    "count_right = 0\n",
    "with open (\"txt/zad7.txt\") as z7:\n",
    "    for line in z7:\n",
    "        line = line.rstrip()\n",
    "        #print(line)\n",
    "        line = line.split()\n",
    "        \n",
    "        #print(line)\n",
    "        for i in line:\n",
    "            \n",
    "            if int(i)<0:\n",
    "                deque_z7.appendLeft(i) \n",
    "                count_left += 1\n",
    "            else:\n",
    "                deque_z7.appendRight(i)\n",
    "                count_right += 1\n",
    "\n",
    "\n",
    "mas_help = []\n",
    "for i in range(count_left):\n",
    "    mas_help.append(deque_z7.popLeft())\n",
    "mas_help = mas_help[::-1]\n",
    "for i in mas_help:\n",
    "    print(i, end=' ')\n",
    "\n",
    "print()\n",
    "for i in range(count_right):\n",
    "    print(deque_z7.popRight(), end=' ')\n",
    "    \n",
    "\n",
    "\n",
    "\n",
    "\n"
   ]
  },
  {
   "cell_type": "markdown",
   "metadata": {},
   "source": [
    "### Задание №8\n",
    "Дан текстовый файл. Используя стек, сформировать новый текстовый файл, содержащий строки исходного файла, записанные в обратном порядке: первая строка становится последней, вторая – предпоследней и т.д."
   ]
  },
  {
   "cell_type": "code",
   "execution_count": 9,
   "metadata": {},
   "outputs": [
    {
     "name": "stdout",
     "output_type": "stream",
     "text": [
      "d gvdzxv sad fv3 \t4r2fk\n",
      "sfdsa wer 23 rfwqefdsz\n",
      "dfsaf sdfadzfad\n",
      "asdasd sa sDF\n"
     ]
    }
   ],
   "source": [
    "stack_z8 = stack([])\n",
    "count_line = 0\n",
    "with open(\"txt/zad8.txt\") as z8:\n",
    "    for line in z8:\n",
    "        line = line.rstrip()\n",
    "        stack_z8.append(line)\n",
    "        count_line += 1\n",
    "    \n",
    "for i in range(count_line):\n",
    "    print(stack_z8.pop())\n"
   ]
  },
  {
   "cell_type": "markdown",
   "metadata": {},
   "source": [
    "### Вывод\n"
   ]
  },
  {
   "cell_type": "markdown",
   "metadata": {},
   "source": []
  }
 ],
 "metadata": {
  "kernelspec": {
   "display_name": "Python 3",
   "language": "python",
   "name": "python3"
  },
  "language_info": {
   "codemirror_mode": {
    "name": "ipython",
    "version": 3
   },
   "file_extension": ".py",
   "mimetype": "text/x-python",
   "name": "python",
   "nbconvert_exporter": "python",
   "pygments_lexer": "ipython3",
   "version": "3.8.3"
  }
 },
 "nbformat": 4,
 "nbformat_minor": 5
}

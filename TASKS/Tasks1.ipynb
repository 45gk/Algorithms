{
 "cells": [
  {
   "cell_type": "markdown",
   "metadata": {},
   "source": [
    "# Задание 1"
   ]
  },
  {
   "cell_type": "markdown",
   "metadata": {},
   "source": [
    "Даны две строки: `s1` и `s2` с одинаковым размером.\n",
    "\n",
    "Проверьте, может ли некоторая перестановка строки `s1` “победить” некоторую перестановку строки `s2` или наоборот.\n",
    "\n",
    "Строка x может “победить” строку y (обе имеют размер n), если `x[i] >= y[i]` (в алфавитном порядке) для всех i от 0 до n-1.\n"
   ]
  },
  {
   "cell_type": "markdown",
   "metadata": {},
   "source": [
    "## Ввод"
   ]
  },
  {
   "cell_type": "markdown",
   "metadata": {},
   "source": [
    "`abc`\n",
    "`xya`"
   ]
  },
  {
   "cell_type": "markdown",
   "metadata": {},
   "source": [
    "## Вывод"
   ]
  },
  {
   "cell_type": "markdown",
   "metadata": {},
   "source": [
    "`True`\n",
    "\n",
    "### Исполняемый код записать в ячейку ниже:"
   ]
  },
  {
   "cell_type": "code",
   "execution_count": 19,
   "metadata": {},
   "outputs": [
    {
     "name": "stdout",
     "output_type": "stream",
     "text": [
      "abc\n",
      "xya\n",
      "False\n"
     ]
    }
   ],
   "source": [
    "s1_1 = str(input())\n",
    "s2_1 = str(input())\n",
    "can = True\n",
    "if len(s1_1) == len(s2_1):\n",
    "    for i in range (len(s1_1)):\n",
    "        if s1_1[i] > s2_1[i]:\n",
    "            can = False\n",
    "print(can)"
   ]
  },
  {
   "cell_type": "markdown",
   "metadata": {},
   "source": [
    "# Задание 2"
   ]
  },
  {
   "cell_type": "markdown",
   "metadata": {},
   "source": [
    "Дана строка `s`, вернуть самую длинную полиндромную подстроку в `s`."
   ]
  },
  {
   "cell_type": "markdown",
   "metadata": {},
   "source": [
    "## Ввод"
   ]
  },
  {
   "cell_type": "markdown",
   "metadata": {},
   "source": [
    "`babad`"
   ]
  },
  {
   "cell_type": "markdown",
   "metadata": {},
   "source": [
    "## Вывод"
   ]
  },
  {
   "cell_type": "markdown",
   "metadata": {},
   "source": [
    "`aba` или `bab`"
   ]
  },
  {
   "cell_type": "markdown",
   "metadata": {},
   "source": [
    "## Исполняемый код записывать в ячейку ниже"
   ]
  },
  {
   "cell_type": "code",
   "execution_count": 18,
   "metadata": {},
   "outputs": [
    {
     "name": "stdout",
     "output_type": "stream",
     "text": [
      "False\n",
      "True\n",
      "12312asdasvvvvvvvvfvvvvvvvvvvv\n",
      "The longest is: vvvvvvvvfvvvvvvvv\n"
     ]
    }
   ],
   "source": [
    "def isPol(st):\n",
    "    st1 = st[::-1]\n",
    "    if st1 == st:\n",
    "        return True\n",
    "    else:\n",
    "        return False\n",
    "    \n",
    "#print(isPol(\"sadasda\"))\n",
    "#print(isPol(\"abba\"))\n",
    "\n",
    "s_2 = str(input())\n",
    "longest_pal = \"\"\n",
    "cur_st = \"\"\n",
    "for i in range(len(s_2)-1):\n",
    "    cur_st += s_2[i]\n",
    "    for j in range (i+1,len(s_2)):\n",
    "        cur_st += s_2[j]\n",
    "        if isPol(cur_st) == True and len(cur_st) >= len(longest_pal):\n",
    "            longest_pal = cur_st\n",
    "    cur_st = \"\"\n",
    "print(\"The longest is:\",longest_pal)\n",
    "        \n",
    "        "
   ]
  },
  {
   "cell_type": "markdown",
   "metadata": {},
   "source": [
    "# Задание 3"
   ]
  },
  {
   "cell_type": "markdown",
   "metadata": {},
   "source": [
    "Вернуть количество отдельных непустых подстрок текста, которые могут быть записаны как конкатенация некоторой строки с самой собой (т.е. она может быть записана, как `a + a`, где `a` - некоторая строка)."
   ]
  },
  {
   "cell_type": "markdown",
   "metadata": {},
   "source": [
    "## Ввод"
   ]
  },
  {
   "cell_type": "markdown",
   "metadata": {},
   "source": [
    "`aabb`"
   ]
  },
  {
   "cell_type": "markdown",
   "metadata": {},
   "source": [
    "## Вывод"
   ]
  },
  {
   "cell_type": "markdown",
   "metadata": {},
   "source": [
    "2"
   ]
  },
  {
   "cell_type": "markdown",
   "metadata": {},
   "source": [
    "## Исполняемый код записывать в ячейку ниже"
   ]
  },
  {
   "cell_type": "code",
   "execution_count": null,
   "metadata": {},
   "outputs": [],
   "source": [
    "str1 = input()\n",
    "\n",
    "def concat_str(str1):\n",
    "    flag = 0\n",
    "    for i in range(len(str1)):\n",
    "        for j in range(i+1, len(str1)):\n",
    "            sub1 = str1[i:j]\n",
    "            l = len(sub1)\n",
    "            if j + l <= len(str1):\n",
    "                sub2 = str1[i+l:j+l]\n",
    "                if sub1==sub2:\n",
    "                    flag += 1\n",
    "    return flag\n",
    "print(concat_str(str1))\n",
    "#print(str1[3:4])"
   ]
  }
 ],
 "metadata": {
  "kernelspec": {
   "display_name": "Python 3",
   "language": "python",
   "name": "python3"
  },
  "language_info": {
   "codemirror_mode": {
    "name": "ipython",
    "version": 3
   },
   "file_extension": ".py",
   "mimetype": "text/x-python",
   "name": "python",
   "nbconvert_exporter": "python",
   "pygments_lexer": "ipython3",
   "version": "3.8.3"
  }
 },
 "nbformat": 4,
 "nbformat_minor": 5
}

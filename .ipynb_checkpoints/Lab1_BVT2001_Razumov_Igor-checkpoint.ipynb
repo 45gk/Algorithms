{
 "cells": [
  {
   "cell_type": "markdown",
   "metadata": {},
   "source": [
    "# Лабораторная работа №1\n",
    "## Выполнил студент группы БВТ2001 Разумов Игорь Вячеславович\n",
    "### Задание 1"
   ]
  },
  {
   "cell_type": "code",
   "execution_count": 1,
   "metadata": {},
   "outputs": [
    {
     "name": "stdout",
     "output_type": "stream",
     "text": [
      "Hello, world!\n"
     ]
    }
   ],
   "source": [
    "print(\"Hello, world!\")"
   ]
  },
  {
   "cell_type": "markdown",
   "metadata": {},
   "source": [
    "### Задание 2"
   ]
  },
  {
   "cell_type": "code",
   "execution_count": 2,
   "metadata": {},
   "outputs": [
    {
     "name": "stdout",
     "output_type": "stream",
     "text": [
      "Введите числа:4 6 12 45\n",
      "Numpy матрица\n",
      "[[17. 19. 33. 23. 45. 21.]\n",
      " [29. 26. 45. 24. 29. 42.]\n",
      " [38. 39. 14. 37. 25. 13.]\n",
      " [44. 38. 42. 42. 16. 44.]]\n"
     ]
    }
   ],
   "source": [
    "from random import randint\n",
    "import numpy as np\n",
    "m, n , min_limit, max_limit = map(int, input(\"Введите числа:\").split()) \n",
    "a = []\n",
    "for i in range(m*n):\n",
    "    a.append(randint(min_limit,max_limit))\n",
    "counter = 0\n",
    "\n",
    "\n",
    "counter = 0\n",
    "a_np = np.zeros((m,n))\n",
    "for i in range (m):\n",
    "    for j in range (n):\n",
    "        a_np[i][j] = a[counter]\n",
    "        counter += 1\n",
    "print (\"Numpy матрица\")\n",
    "print(a_np)"
   ]
  },
  {
   "cell_type": "markdown",
   "metadata": {},
   "source": [
    "### Задание 3"
   ]
  },
  {
   "cell_type": "markdown",
   "metadata": {},
   "source": [
    "#### Встроенная сортировка"
   ]
  },
  {
   "cell_type": "code",
   "execution_count": 3,
   "metadata": {},
   "outputs": [
    {
     "data": {
      "text/plain": [
       "array([[13., 14., 16., 17., 19., 21.],\n",
       "       [23., 24., 25., 26., 29., 29.],\n",
       "       [33., 37., 38., 38., 39., 42.],\n",
       "       [42., 42., 44., 44., 45., 45.]])"
      ]
     },
     "execution_count": 3,
     "metadata": {},
     "output_type": "execute_result"
    }
   ],
   "source": [
    "a_np_sorted = np.sort(a)\n",
    "counter = 0\n",
    "a_np_s_b = np.zeros((m,n))\n",
    "\n",
    "for i in range (m):\n",
    "    for j in range (n):\n",
    "        a_np_s_b[i][j] = a_np_sorted[counter]\n",
    "        counter += 1\n",
    "\n",
    "a_np_s_b"
   ]
  },
  {
   "cell_type": "markdown",
   "metadata": {},
   "source": [
    "#### Выбором"
   ]
  },
  {
   "cell_type": "code",
   "execution_count": 4,
   "metadata": {},
   "outputs": [
    {
     "name": "stdout",
     "output_type": "stream",
     "text": [
      "[13, 14, 16, 17, 19, 21, 23, 24, 25, 26, 29, 29, 33, 37, 38, 38, 39, 42, 42, 42, 44, 44, 45, 45]\n"
     ]
    },
    {
     "data": {
      "text/plain": [
       "array([[13., 14., 16., 17., 19., 21.],\n",
       "       [23., 24., 25., 26., 29., 29.],\n",
       "       [33., 37., 38., 38., 39., 42.],\n",
       "       [42., 42., 44., 44., 45., 45.]])"
      ]
     },
     "execution_count": 4,
     "metadata": {},
     "output_type": "execute_result"
    }
   ],
   "source": [
    "# создаём функцию-сортировщик\n",
    "def select (a = list):\n",
    "    index = 0 # переменная минимального индекса\n",
    "    tech = 0\n",
    "    for i in range (len(a)): # идём по массиву\n",
    "        index = i\n",
    "        for j in range (i+1,len(a)): # находим минимальное значение\n",
    "            if a[j]<a[index] :\n",
    "                index = j\n",
    "        tech = a[index] # меняем местами числа\n",
    "        a[index] = a[i]\n",
    "        a[i] = tech # эти 3 строчки можно упростить\n",
    "    \n",
    "    return a\n",
    "\n",
    "\n",
    "a_sort_select = select(a) # отсортированный массив\n",
    "\n",
    "a_matrix_select = np.zeros((m,n)) # матрица\n",
    "\n",
    "print(a_sort_select)\n",
    "\n",
    "counter = 0\n",
    "for i in range (m):\n",
    "    for j in range (n):\n",
    "        a_matrix_select[i][j] = a_sort_select[counter]\n",
    "        counter += 1\n",
    "a_matrix_select # вывод матрицы"
   ]
  },
  {
   "cell_type": "markdown",
   "metadata": {},
   "source": [
    "#### Вставкой"
   ]
  },
  {
   "cell_type": "code",
   "execution_count": 5,
   "metadata": {},
   "outputs": [
    {
     "name": "stdout",
     "output_type": "stream",
     "text": [
      "[13, 14, 16, 17, 19, 21, 23, 24, 25, 26, 29, 29, 33, 37, 38, 38, 39, 42, 42, 42, 44, 44, 45, 45]\n"
     ]
    },
    {
     "data": {
      "text/plain": [
       "array([[13., 14., 16., 17., 19., 21.],\n",
       "       [23., 24., 25., 26., 29., 29.],\n",
       "       [33., 37., 38., 38., 39., 42.],\n",
       "       [42., 42., 44., 44., 45., 45.]])"
      ]
     },
     "execution_count": 5,
     "metadata": {},
     "output_type": "execute_result"
    }
   ],
   "source": [
    "def insert (a = list):\n",
    "    for i in range(1,len(a)-1): #идём по массиву\n",
    "        znach = a[i]\n",
    "        j = i - 1\n",
    "\n",
    "        while j >= 0 and a[j] >= a[i]: # идём по отсортированной части\n",
    "            a[j+1] = a[j]\n",
    "            j -= 1\n",
    "        a[j + 1] = znach\n",
    "    return a\n",
    "\n",
    "a_sort_insert = insert(a)\n",
    "\n",
    "a_matrix_insert = np.zeros((m,n)) # матрица\n",
    "\n",
    "print(a_sort_insert)\n",
    "\n",
    "counter = 0\n",
    "for i in range (m):\n",
    "    for j in range (n):\n",
    "        a_matrix_insert[i][j] = a_sort_insert[counter]\n",
    "        counter += 1\n",
    "a_matrix_insert # вывод матрицы"
   ]
  },
  {
   "cell_type": "markdown",
   "metadata": {},
   "source": [
    "#### Обменом"
   ]
  },
  {
   "cell_type": "code",
   "execution_count": null,
   "metadata": {},
   "outputs": [],
   "source": []
  },
  {
   "cell_type": "markdown",
   "metadata": {},
   "source": [
    "#### Шелла"
   ]
  },
  {
   "cell_type": "code",
   "execution_count": 6,
   "metadata": {},
   "outputs": [
    {
     "name": "stdout",
     "output_type": "stream",
     "text": [
      "[13, 14, 16, 17, 19, 21, 23, 24, 25, 26, 29, 29, 33, 37, 38, 38, 39, 42, 42, 42, 44, 44, 45, 45]\n"
     ]
    },
    {
     "data": {
      "text/plain": [
       "array([[13., 14., 16., 17., 19., 21.],\n",
       "       [23., 24., 25., 26., 29., 29.],\n",
       "       [33., 37., 38., 38., 39., 42.],\n",
       "       [42., 42., 44., 44., 45., 45.]])"
      ]
     },
     "execution_count": 6,
     "metadata": {},
     "output_type": "execute_result"
    }
   ],
   "source": [
    "def shell(a):\n",
    "    inc = len(a) // 2\n",
    "    while inc:\n",
    "        for i, el in enumerate(a):\n",
    "            while i >= inc and a[i - inc] > el:\n",
    "                a[i] = a[i - inc]\n",
    "                i -= inc\n",
    "            a[i] = el\n",
    "        inc = 1 if inc == 2 else int(inc * 5.0 / 11)\n",
    "    return a\n",
    "\n",
    "a_sort_shell = shell(a)\n",
    "\n",
    "a_matrix_shell = np.zeros((m,n)) # матрица\n",
    "\n",
    "print(a_sort_shell)\n",
    "\n",
    "counter = 0\n",
    "for i in range (m):\n",
    "    for j in range (n):\n",
    "        a_matrix_shell[i][j] = a_sort_shell[counter]\n",
    "        counter += 1\n",
    "a_matrix_shell # вывод матрицы"
   ]
  },
  {
   "cell_type": "markdown",
   "metadata": {},
   "source": [
    "#### Турнирная"
   ]
  },
  {
   "cell_type": "code",
   "execution_count": null,
   "metadata": {},
   "outputs": [],
   "source": []
  },
  {
   "cell_type": "markdown",
   "metadata": {},
   "source": [
    "#### Быстрая сортировка"
   ]
  },
  {
   "cell_type": "code",
   "execution_count": null,
   "metadata": {},
   "outputs": [],
   "source": []
  },
  {
   "cell_type": "markdown",
   "metadata": {},
   "source": [
    "#### Пирамидальная"
   ]
  },
  {
   "cell_type": "code",
   "execution_count": null,
   "metadata": {},
   "outputs": [],
   "source": []
  }
 ],
 "metadata": {
  "kernelspec": {
   "display_name": "Python 3",
   "language": "python",
   "name": "python3"
  },
  "language_info": {
   "codemirror_mode": {
    "name": "ipython",
    "version": 3
   },
   "file_extension": ".py",
   "mimetype": "text/x-python",
   "name": "python",
   "nbconvert_exporter": "python",
   "pygments_lexer": "ipython3",
   "version": "3.8.3"
  }
 },
 "nbformat": 4,
 "nbformat_minor": 4
}
